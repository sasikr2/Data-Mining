{
 "cells": [
  {
   "cell_type": "code",
   "execution_count": 1,
   "id": "3301b445",
   "metadata": {
    "ExecuteTime": {
     "end_time": "2021-11-26T06:45:48.092972Z",
     "start_time": "2021-11-26T06:45:40.154518Z"
    }
   },
   "outputs": [],
   "source": [
    "import numpy as np\n",
    "import pandas as pd\n",
    "import matplotlib.pyplot as plt\n",
    "from sklearn.linear_model import LinearRegression\n",
    "from statsmodels.tsa.stattools import adfuller, acf, pacf\n",
    "from scipy.optimize import curve_fit\n",
    "import  statsmodels.api as sm\n",
    "import itertools\n",
    "import warnings \n",
    "warnings.filterwarnings(\"ignore\")"
   ]
  },
  {
   "cell_type": "code",
   "execution_count": 2,
   "id": "8c1687a5",
   "metadata": {
    "ExecuteTime": {
     "end_time": "2021-11-26T06:45:48.840509Z",
     "start_time": "2021-11-26T06:45:48.806334Z"
    }
   },
   "outputs": [],
   "source": [
    "df = pd.read_csv(\"Electricity Generation by Source_D_20211110_093557.csv\", skiprows = [0], header = 1,parse_dates = [\"YearValue\"], index_col = 'YearValue')"
   ]
  },
  {
   "cell_type": "code",
   "execution_count": 3,
   "id": "eba028d3",
   "metadata": {
    "ExecuteTime": {
     "end_time": "2021-11-26T06:45:49.114696Z",
     "start_time": "2021-11-26T06:45:49.055410Z"
    }
   },
   "outputs": [
    {
     "data": {
      "text/html": [
       "<div>\n",
       "<style scoped>\n",
       "    .dataframe tbody tr th:only-of-type {\n",
       "        vertical-align: middle;\n",
       "    }\n",
       "\n",
       "    .dataframe tbody tr th {\n",
       "        vertical-align: top;\n",
       "    }\n",
       "\n",
       "    .dataframe thead th {\n",
       "        text-align: right;\n",
       "    }\n",
       "</style>\n",
       "<table border=\"1\" class=\"dataframe\">\n",
       "  <thead>\n",
       "    <tr style=\"text-align: right;\">\n",
       "      <th></th>\n",
       "      <th>EnergySource</th>\n",
       "      <th>EnergySourceType</th>\n",
       "      <th>Generation_GWh</th>\n",
       "      <th>PLF_Percent</th>\n",
       "    </tr>\n",
       "    <tr>\n",
       "      <th>YearValue</th>\n",
       "      <th></th>\n",
       "      <th></th>\n",
       "      <th></th>\n",
       "      <th></th>\n",
       "    </tr>\n",
       "  </thead>\n",
       "  <tbody>\n",
       "    <tr>\n",
       "      <th>2017-01-01</th>\n",
       "      <td>COAL</td>\n",
       "      <td>NON-RENEWABLE</td>\n",
       "      <td>1082449.240</td>\n",
       "      <td>74.1</td>\n",
       "    </tr>\n",
       "    <tr>\n",
       "      <th>2017-01-01</th>\n",
       "      <td>HYDRO</td>\n",
       "      <td>NON-RENEWABLE</td>\n",
       "      <td>122521.203</td>\n",
       "      <td>0.0</td>\n",
       "    </tr>\n",
       "    <tr>\n",
       "      <th>2017-01-01</th>\n",
       "      <td>BIOMASS-BAGASSE</td>\n",
       "      <td>RENEWABLE</td>\n",
       "      <td>14158.640</td>\n",
       "      <td>0.0</td>\n",
       "    </tr>\n",
       "    <tr>\n",
       "      <th>2017-01-01</th>\n",
       "      <td>SMALL HYDRO</td>\n",
       "      <td>RENEWABLE</td>\n",
       "      <td>7672.661</td>\n",
       "      <td>0.0</td>\n",
       "    </tr>\n",
       "    <tr>\n",
       "      <th>2017-01-01</th>\n",
       "      <td>SOLAR</td>\n",
       "      <td>RENEWABLE</td>\n",
       "      <td>13564.023</td>\n",
       "      <td>0.0</td>\n",
       "    </tr>\n",
       "    <tr>\n",
       "      <th>...</th>\n",
       "      <td>...</td>\n",
       "      <td>...</td>\n",
       "      <td>...</td>\n",
       "      <td>...</td>\n",
       "    </tr>\n",
       "    <tr>\n",
       "      <th>2012-01-01</th>\n",
       "      <td>LIGNITE</td>\n",
       "      <td>NON-RENEWABLE</td>\n",
       "      <td>24394.180</td>\n",
       "      <td>71.0</td>\n",
       "    </tr>\n",
       "    <tr>\n",
       "      <th>2017-01-01</th>\n",
       "      <td>NAPHTHA</td>\n",
       "      <td>NON-RENEWABLE</td>\n",
       "      <td>26.380</td>\n",
       "      <td>0.0</td>\n",
       "    </tr>\n",
       "    <tr>\n",
       "      <th>2018-01-01</th>\n",
       "      <td>NAPHTHA</td>\n",
       "      <td>NON-RENEWABLE</td>\n",
       "      <td>52.960</td>\n",
       "      <td>0.0</td>\n",
       "    </tr>\n",
       "    <tr>\n",
       "      <th>2019-01-01</th>\n",
       "      <td>NAPHTHA</td>\n",
       "      <td>NON-RENEWABLE</td>\n",
       "      <td>0.860</td>\n",
       "      <td>0.0</td>\n",
       "    </tr>\n",
       "    <tr>\n",
       "      <th>2012-01-01</th>\n",
       "      <td>RENEWABLES</td>\n",
       "      <td>RENEWABLE</td>\n",
       "      <td>1178.180</td>\n",
       "      <td>0.0</td>\n",
       "    </tr>\n",
       "  </tbody>\n",
       "</table>\n",
       "<p>155 rows × 4 columns</p>\n",
       "</div>"
      ],
      "text/plain": [
       "               EnergySource EnergySourceType  Generation_GWh  PLF_Percent\n",
       "YearValue                                                                \n",
       "2017-01-01             COAL    NON-RENEWABLE     1082449.240         74.1\n",
       "2017-01-01            HYDRO    NON-RENEWABLE      122521.203          0.0\n",
       "2017-01-01  BIOMASS-BAGASSE        RENEWABLE       14158.640          0.0\n",
       "2017-01-01      SMALL HYDRO        RENEWABLE        7672.661          0.0\n",
       "2017-01-01            SOLAR        RENEWABLE       13564.023          0.0\n",
       "...                     ...              ...             ...          ...\n",
       "2012-01-01          LIGNITE    NON-RENEWABLE       24394.180         71.0\n",
       "2017-01-01          NAPHTHA    NON-RENEWABLE          26.380          0.0\n",
       "2018-01-01          NAPHTHA    NON-RENEWABLE          52.960          0.0\n",
       "2019-01-01          NAPHTHA    NON-RENEWABLE           0.860          0.0\n",
       "2012-01-01       RENEWABLES        RENEWABLE        1178.180          0.0\n",
       "\n",
       "[155 rows x 4 columns]"
      ]
     },
     "execution_count": 3,
     "metadata": {},
     "output_type": "execute_result"
    }
   ],
   "source": [
    "df"
   ]
  },
  {
   "cell_type": "code",
   "execution_count": 4,
   "id": "06b0c520",
   "metadata": {
    "ExecuteTime": {
     "end_time": "2021-11-26T06:45:49.501357Z",
     "start_time": "2021-11-26T06:45:49.466718Z"
    }
   },
   "outputs": [],
   "source": [
    "dfc = df.groupby(['YearValue', \"EnergySourceType\"])['Generation_GWh'].sum()"
   ]
  },
  {
   "cell_type": "code",
   "execution_count": 5,
   "id": "f729a35d",
   "metadata": {
    "ExecuteTime": {
     "end_time": "2021-11-26T06:45:49.844172Z",
     "start_time": "2021-11-26T06:45:49.801949Z"
    }
   },
   "outputs": [
    {
     "data": {
      "text/plain": [
       "YearValue   EnergySourceType\n",
       "2006-01-01  NON-RENEWABLE        690197.420\n",
       "            RENEWABLE              6863.410\n",
       "2007-01-01  NON-RENEWABLE        741454.060\n",
       "            RENEWABLE             10075.990\n",
       "2008-01-01  NON-RENEWABLE        789735.640\n",
       "            RENEWABLE             19528.047\n",
       "2009-01-01  NON-RENEWABLE        815478.740\n",
       "            RENEWABLE             23204.257\n",
       "2010-01-01  NON-RENEWABLE        870322.700\n",
       "            RENEWABLE             28204.789\n",
       "2011-01-01  NON-RENEWABLE        926113.360\n",
       "            RENEWABLE             33244.892\n",
       "2012-01-01  NON-RENEWABLE       1005239.010\n",
       "            RENEWABLE             40926.470\n",
       "2013-01-01  NON-RENEWABLE       1051806.190\n",
       "            RENEWABLE             47090.132\n",
       "2014-01-01  NON-RENEWABLE       1110506.220\n",
       "            RENEWABLE             52883.865\n",
       "2015-01-01  NON-RENEWABLE       1204473.290\n",
       "            RENEWABLE             59473.176\n",
       "2016-01-01  NON-RENEWABLE       1269310.070\n",
       "            RENEWABLE             67826.931\n",
       "2017-01-01  NON-RENEWABLE       1324292.608\n",
       "            RENEWABLE             83825.239\n",
       "2018-01-01  NON-RENEWABLE       1378977.136\n",
       "            RENEWABLE            104167.659\n",
       "2019-01-01  NON-RENEWABLE       1454329.888\n",
       "            RENEWABLE            130433.015\n",
       "2020-01-01  NON-RENEWABLE       1478245.716\n",
       "            RENEWABLE            144647.494\n",
       "Name: Generation_GWh, dtype: float64"
      ]
     },
     "execution_count": 5,
     "metadata": {},
     "output_type": "execute_result"
    }
   ],
   "source": [
    "dfc"
   ]
  },
  {
   "cell_type": "code",
   "execution_count": 6,
   "id": "d2fb1394",
   "metadata": {
    "ExecuteTime": {
     "end_time": "2021-11-26T06:45:49.982488Z",
     "start_time": "2021-11-26T06:45:49.971453Z"
    }
   },
   "outputs": [],
   "source": [
    "year = []\n",
    "listr = []\n",
    "listnr = []\n",
    "for i in range(dfc.shape[0]):\n",
    "    a, b = dfc.index[i]\n",
    "    if(i & 1):\n",
    "        listr.append(dfc[i])\n",
    "    else:\n",
    "        year.append(a.year)\n",
    "        listnr.append(dfc[i])"
   ]
  },
  {
   "cell_type": "code",
   "execution_count": 7,
   "id": "890ab5d5",
   "metadata": {
    "ExecuteTime": {
     "end_time": "2021-11-26T06:45:50.169308Z",
     "start_time": "2021-11-26T06:45:50.152809Z"
    }
   },
   "outputs": [],
   "source": [
    "df.sort_values('YearValue', inplace = True)"
   ]
  },
  {
   "cell_type": "code",
   "execution_count": 8,
   "id": "159fea75",
   "metadata": {
    "ExecuteTime": {
     "end_time": "2021-11-26T06:45:50.607879Z",
     "start_time": "2021-11-26T06:45:50.589934Z"
    }
   },
   "outputs": [
    {
     "data": {
      "text/plain": [
       "array(['COAL', 'WIND', 'NUCLEAR', 'HYDRO', 'LIGNITE', 'NATURAL GAS',\n",
       "       'DIESEL', 'RENEWABLES', 'BIOMASS-BAGASSE', 'WASTE', 'SOLAR',\n",
       "       'SMALL HYDRO', 'NAPHTHA'], dtype=object)"
      ]
     },
     "execution_count": 8,
     "metadata": {},
     "output_type": "execute_result"
    }
   ],
   "source": [
    "df['EnergySource'].unique()"
   ]
  },
  {
   "cell_type": "code",
   "execution_count": 9,
   "id": "54429713",
   "metadata": {
    "ExecuteTime": {
     "end_time": "2021-11-26T06:45:50.843082Z",
     "start_time": "2021-11-26T06:45:50.820368Z"
    }
   },
   "outputs": [],
   "source": [
    "ratio = np.array(listnr)/np.array(listr)\n",
    "dfcoal  = df[df['EnergySource']  == \"COAL\"]\n",
    "dfcoal['ratio'] = list(ratio)\n",
    "dfcoal =dfcoal[['ratio']]"
   ]
  },
  {
   "cell_type": "code",
   "execution_count": 10,
   "id": "64b4775b",
   "metadata": {
    "ExecuteTime": {
     "end_time": "2021-11-26T06:45:51.798790Z",
     "start_time": "2021-11-26T06:45:51.323023Z"
    }
   },
   "outputs": [
    {
     "data": {
      "text/plain": [
       "[<matplotlib.lines.Line2D at 0x18d2cd3fa30>]"
      ]
     },
     "execution_count": 10,
     "metadata": {},
     "output_type": "execute_result"
    },
    {
     "data": {
      "image/png": "[encoded data removed]",
      "text/plain": [
       "<Figure size 432x288 with 1 Axes>"
      ]
     },
     "metadata": {
      "needs_background": "light"
     },
     "output_type": "display_data"
    }
   ],
   "source": [
    "\n",
    "plt.figure()\n",
    "plt.plot( year, ratio)"
   ]
  },
  {
   "cell_type": "code",
   "execution_count": 11,
   "id": "c9e1a8d3",
   "metadata": {
    "ExecuteTime": {
     "end_time": "2021-11-26T06:45:53.105116Z",
     "start_time": "2021-11-26T06:45:51.868176Z"
    }
   },
   "outputs": [
    {
     "data": {
      "image/png": "[encoded data removed]",
      "text/plain": [
       "<Figure size 1296x576 with 4 Axes>"
      ]
     },
     "metadata": {
      "needs_background": "light"
     },
     "output_type": "display_data"
    }
   ],
   "source": [
    "from pylab import rcParams\n",
    "rcParams['figure.figsize'] = (18, 8)\n",
    "decomposition = sm.tsa.seasonal_decompose(dfcoal['ratio'], model='additive')\n",
    "fig = decomposition.plot()\n",
    "plt.show()"
   ]
  },
  {
   "cell_type": "code",
   "execution_count": 14,
   "id": "c3ccde87",
   "metadata": {
    "ExecuteTime": {
     "end_time": "2021-11-21T10:15:31.221059Z",
     "start_time": "2021-11-21T10:15:31.201489Z"
    }
   },
   "outputs": [],
   "source": [
    "p = d = q = range(0, 2)\n",
    "pdq = list(itertools.product(p, d, q))\n",
    "seasonal_pdq = [(x[0], x[1], x[2], 2) for x in list(itertools.product(p, d, q))]\n",
    "# print('Examples of parameter combinations for Seasonal ARIMA...')\n",
    "# print('SARIMAX: {} x {}'.format(pdq[1], seasonal_pdq[1]))\n",
    "# print('SARIMAX: {} x {}'.format(pdq[1], seasonal_pdq[2]))\n",
    "# print('SARIMAX: {} x {}'.format(pdq[2], seasonal_pdq[3]))\n",
    "# print('SARIMAX: {} x {}'.format(pdq[2], seasonal_pdq[4]))"
   ]
  },
  {
   "cell_type": "code",
   "execution_count": 15,
   "id": "4fee6fc6",
   "metadata": {
    "ExecuteTime": {
     "end_time": "2021-11-21T10:15:35.033212Z",
     "start_time": "2021-11-21T10:15:31.499495Z"
    }
   },
   "outputs": [],
   "source": [
    "param1 = ()\n",
    "param2 = ()\n",
    "mxaic = 1000000000\n",
    "for param in pdq:\n",
    "    for param_seasonal in seasonal_pdq:\n",
    "        try:\n",
    "            mod = sm.tsa.statespace.SARIMAX(dfcoal['ratio'],\n",
    "                                            order=param,\n",
    "                                            seasonal_order=param_seasonal,\n",
    "                                            enforce_stationarity=False,\n",
    "                                            enforce_invertibility=False)\n",
    "            results = mod.fit()\n",
    "            if(mxaic > results.aic):\n",
    "                mxaic = results.aic\n",
    "                param1 = param\n",
    "                param2 = param_seasonal\n",
    "            #print('ARIMA{}x{}12 - AIC:{}'.format(param, param_seasonal, results.aic))\n",
    "        except:\n",
    "            continue"
   ]
  },
  {
   "cell_type": "code",
   "execution_count": 16,
   "id": "474eabbd",
   "metadata": {
    "ExecuteTime": {
     "end_time": "2021-11-21T10:15:35.152269Z",
     "start_time": "2021-11-21T10:15:35.135858Z"
    }
   },
   "outputs": [
    {
     "name": "stdout",
     "output_type": "stream",
     "text": [
      "(1, 1, 1) (1, 0, 1, 2)\n"
     ]
    }
   ],
   "source": [
    "#ARIMA(1, 1, 1)x(1, 0, 1, 2)12 - AIC:27.277687091576425\n",
    "print(param1, param2)"
   ]
  },
  {
   "cell_type": "code",
   "execution_count": 17,
   "id": "b9e661ae",
   "metadata": {
    "ExecuteTime": {
     "end_time": "2021-11-21T10:15:35.421278Z",
     "start_time": "2021-11-21T10:15:35.252814Z"
    }
   },
   "outputs": [
    {
     "name": "stdout",
     "output_type": "stream",
     "text": [
      "==============================================================================\n",
      "                 coef    std err          z      P>|z|      [0.025      0.975]\n",
      "------------------------------------------------------------------------------\n",
      "ar.L1          0.8853      0.043     20.516      0.000       0.801       0.970\n",
      "ma.L1          3.5525      4.524      0.785      0.432      -5.314      12.419\n",
      "ar.S.L2        0.0441      0.027      1.649      0.099      -0.008       0.097\n",
      "ma.S.L2       -1.0001   3563.323     -0.000      1.000   -6984.985    6982.984\n",
      "sigma2         0.0190     67.632      0.000      1.000    -132.537     132.575\n",
      "==============================================================================\n"
     ]
    }
   ],
   "source": [
    "mod = sm.tsa.statespace.SARIMAX(dfcoal['ratio'],\n",
    "                                order=param1,\n",
    "                                seasonal_order=param2,\n",
    "                                enforce_stationarity=False,\n",
    "                                enforce_invertibility=False)\n",
    "results = mod.fit()\n",
    "print(results.summary().tables[1])"
   ]
  },
  {
   "cell_type": "code",
   "execution_count": null,
   "id": "15e9250e",
   "metadata": {
    "ExecuteTime": {
     "end_time": "2021-11-20T07:57:12.268335Z",
     "start_time": "2021-11-20T07:57:11.658896Z"
    }
   },
   "outputs": [],
   "source": []
  },
  {
   "cell_type": "code",
   "execution_count": 18,
   "id": "a310d663",
   "metadata": {
    "ExecuteTime": {
     "end_time": "2021-11-21T10:15:35.722361Z",
     "start_time": "2021-11-21T10:15:35.492217Z"
    }
   },
   "outputs": [
    {
     "data": {
      "image/png": "[encoded data removed]",
      "text/plain": [
       "<Figure size 1008x504 with 1 Axes>"
      ]
     },
     "metadata": {
      "needs_background": "light"
     },
     "output_type": "display_data"
    }
   ],
   "source": [
    "pred = results.get_prediction(start=pd.to_datetime('2006-01-01'), dynamic=False)\n",
    "pred_ci = pred.conf_int()\n",
    "ax = dfcoal['2006':].plot()\n",
    "pred.predicted_mean.plot(ax = ax, label='One-step ahead Forecast', alpha=.7, figsize=(14, 7))\n",
    "# ax.fill_between(pred_ci.index,\n",
    "#                 pred_ci.iloc[:, 0],\n",
    "#                 pred_ci.iloc[:, 1], color='k', alpha=.2)\n",
    "ax.set_xlabel('Years')\n",
    "ax.set_ylabel('Ratio of non-renewable and renewable')\n",
    "plt.legend()\n",
    "plt.show()\n"
   ]
  },
  {
   "cell_type": "code",
   "execution_count": 19,
   "id": "b87059c9",
   "metadata": {
    "ExecuteTime": {
     "end_time": "2021-11-21T10:15:35.843508Z",
     "start_time": "2021-11-21T10:15:35.830908Z"
    }
   },
   "outputs": [
    {
     "name": "stdout",
     "output_type": "stream",
     "text": [
      "(15,) (15, 1)\n",
      "The Mean Squared Error of our forecasts is 194.65\n"
     ]
    }
   ],
   "source": [
    "y_forecasted = np.array(pred.predicted_mean)\n",
    "y_truth = np.array(dfcoal['2006':])\n",
    "print(y_forecasted.shape,y_truth.shape)\n",
    "mse = ((y_forecasted[2:] - y_truth[2:]) ** 2).mean()\n",
    "print('The Mean Squared Error of our forecasts is {}'.format(round(mse, 2)))"
   ]
  },
  {
   "cell_type": "code",
   "execution_count": 20,
   "id": "c6690b99",
   "metadata": {
    "ExecuteTime": {
     "end_time": "2021-11-21T10:15:36.223354Z",
     "start_time": "2021-11-21T10:15:35.934241Z"
    }
   },
   "outputs": [
    {
     "data": {
      "image/png": "[encoded data removed]",
      "text/plain": [
       "<Figure size 1008x504 with 1 Axes>"
      ]
     },
     "metadata": {
      "needs_background": "light"
     },
     "output_type": "display_data"
    }
   ],
   "source": [
    "pred_uc = results.get_forecast(steps=20)\n",
    "pred_ci = pred_uc.conf_int()\n",
    "ax = dfcoal.plot(label='observed', figsize=(14, 7))\n",
    "pred_uc.predicted_mean.plot(ax=ax, label='Forecast')\n",
    "ax.fill_between(pred_ci.index,\n",
    "                pred_ci.iloc[:, 0],\n",
    "                 pred_ci.iloc[:, 1], color='k', alpha=.25)\n",
    "ax.set_xlabel('Year')\n",
    "ax.set_ylabel('Ratio')\n",
    "plt.legend()\n",
    "plt.show()"
   ]
  },
  {
   "cell_type": "code",
   "execution_count": 21,
   "id": "d5f24d31",
   "metadata": {
    "ExecuteTime": {
     "end_time": "2021-11-21T10:15:36.322114Z",
     "start_time": "2021-11-21T10:15:36.315437Z"
    }
   },
   "outputs": [],
   "source": [
    "df_pred = pd.DataFrame(pred_uc.predicted_mean)"
   ]
  },
  {
   "cell_type": "code",
   "execution_count": 22,
   "id": "aa9bbfc4",
   "metadata": {
    "ExecuteTime": {
     "end_time": "2021-11-21T10:16:50.430091Z",
     "start_time": "2021-11-21T10:16:50.400836Z"
    }
   },
   "outputs": [
    {
     "data": {
      "text/html": [
       "<div>\n",
       "<style scoped>\n",
       "    .dataframe tbody tr th:only-of-type {\n",
       "        vertical-align: middle;\n",
       "    }\n",
       "\n",
       "    .dataframe tbody tr th {\n",
       "        vertical-align: top;\n",
       "    }\n",
       "\n",
       "    .dataframe thead th {\n",
       "        text-align: right;\n",
       "    }\n",
       "</style>\n",
       "<table border=\"1\" class=\"dataframe\">\n",
       "  <thead>\n",
       "    <tr style=\"text-align: right;\">\n",
       "      <th></th>\n",
       "      <th>predicted_mean</th>\n",
       "    </tr>\n",
       "  </thead>\n",
       "  <tbody>\n",
       "    <tr>\n",
       "      <th>2021-01-01</th>\n",
       "      <td>10.062632</td>\n",
       "    </tr>\n",
       "    <tr>\n",
       "      <th>2022-01-01</th>\n",
       "      <td>9.440415</td>\n",
       "    </tr>\n",
       "    <tr>\n",
       "      <th>2023-01-01</th>\n",
       "      <td>8.738980</td>\n",
       "    </tr>\n",
       "    <tr>\n",
       "      <th>2024-01-01</th>\n",
       "      <td>8.096660</td>\n",
       "    </tr>\n",
       "    <tr>\n",
       "      <th>2025-01-01</th>\n",
       "      <td>7.521348</td>\n",
       "    </tr>\n",
       "    <tr>\n",
       "      <th>2026-01-01</th>\n",
       "      <td>7.011061</td>\n",
       "    </tr>\n",
       "    <tr>\n",
       "      <th>2027-01-01</th>\n",
       "      <td>6.558989</td>\n",
       "    </tr>\n",
       "    <tr>\n",
       "      <th>2028-01-01</th>\n",
       "      <td>6.158709</td>\n",
       "    </tr>\n",
       "    <tr>\n",
       "      <th>2029-01-01</th>\n",
       "      <td>5.804312</td>\n",
       "    </tr>\n",
       "    <tr>\n",
       "      <th>2030-01-01</th>\n",
       "      <td>5.490548</td>\n",
       "    </tr>\n",
       "    <tr>\n",
       "      <th>2031-01-01</th>\n",
       "      <td>5.212759</td>\n",
       "    </tr>\n",
       "    <tr>\n",
       "      <th>2032-01-01</th>\n",
       "      <td>4.966821</td>\n",
       "    </tr>\n",
       "    <tr>\n",
       "      <th>2033-01-01</th>\n",
       "      <td>4.749081</td>\n",
       "    </tr>\n",
       "    <tr>\n",
       "      <th>2034-01-01</th>\n",
       "      <td>4.556307</td>\n",
       "    </tr>\n",
       "    <tr>\n",
       "      <th>2035-01-01</th>\n",
       "      <td>4.385637</td>\n",
       "    </tr>\n",
       "    <tr>\n",
       "      <th>2036-01-01</th>\n",
       "      <td>4.234535</td>\n",
       "    </tr>\n",
       "    <tr>\n",
       "      <th>2037-01-01</th>\n",
       "      <td>4.100758</td>\n",
       "    </tr>\n",
       "    <tr>\n",
       "      <th>2038-01-01</th>\n",
       "      <td>3.982320</td>\n",
       "    </tr>\n",
       "    <tr>\n",
       "      <th>2039-01-01</th>\n",
       "      <td>3.877461</td>\n",
       "    </tr>\n",
       "    <tr>\n",
       "      <th>2040-01-01</th>\n",
       "      <td>3.784626</td>\n",
       "    </tr>\n",
       "  </tbody>\n",
       "</table>\n",
       "</div>"
      ],
      "text/plain": [
       "            predicted_mean\n",
       "2021-01-01       10.062632\n",
       "2022-01-01        9.440415\n",
       "2023-01-01        8.738980\n",
       "2024-01-01        8.096660\n",
       "2025-01-01        7.521348\n",
       "2026-01-01        7.011061\n",
       "2027-01-01        6.558989\n",
       "2028-01-01        6.158709\n",
       "2029-01-01        5.804312\n",
       "2030-01-01        5.490548\n",
       "2031-01-01        5.212759\n",
       "2032-01-01        4.966821\n",
       "2033-01-01        4.749081\n",
       "2034-01-01        4.556307\n",
       "2035-01-01        4.385637\n",
       "2036-01-01        4.234535\n",
       "2037-01-01        4.100758\n",
       "2038-01-01        3.982320\n",
       "2039-01-01        3.877461\n",
       "2040-01-01        3.784626"
      ]
     },
     "execution_count": 22,
     "metadata": {},
     "output_type": "execute_result"
    }
   ],
   "source": [
    "df_pred"
   ]
  },
  {
   "cell_type": "code",
   "execution_count": 23,
   "id": "0b2ec959",
   "metadata": {
    "ExecuteTime": {
     "end_time": "2021-11-21T10:16:52.704951Z",
     "start_time": "2021-11-21T10:16:52.695982Z"
    }
   },
   "outputs": [],
   "source": [
    "final = pd.concat([dfcoal, df_pred])"
   ]
  },
  {
   "cell_type": "code",
   "execution_count": 24,
   "id": "74894e73",
   "metadata": {
    "ExecuteTime": {
     "end_time": "2021-11-21T10:16:53.082963Z",
     "start_time": "2021-11-21T10:16:53.038415Z"
    }
   },
   "outputs": [
    {
     "data": {
      "text/html": [
       "<div>\n",
       "<style scoped>\n",
       "    .dataframe tbody tr th:only-of-type {\n",
       "        vertical-align: middle;\n",
       "    }\n",
       "\n",
       "    .dataframe tbody tr th {\n",
       "        vertical-align: top;\n",
       "    }\n",
       "\n",
       "    .dataframe thead th {\n",
       "        text-align: right;\n",
       "    }\n",
       "</style>\n",
       "<table border=\"1\" class=\"dataframe\">\n",
       "  <thead>\n",
       "    <tr style=\"text-align: right;\">\n",
       "      <th></th>\n",
       "      <th>ratio</th>\n",
       "      <th>predicted_mean</th>\n",
       "    </tr>\n",
       "  </thead>\n",
       "  <tbody>\n",
       "    <tr>\n",
       "      <th>2006-01-01</th>\n",
       "      <td>100.561881</td>\n",
       "      <td>NaN</td>\n",
       "    </tr>\n",
       "    <tr>\n",
       "      <th>2007-01-01</th>\n",
       "      <td>73.586224</td>\n",
       "      <td>NaN</td>\n",
       "    </tr>\n",
       "    <tr>\n",
       "      <th>2008-01-01</th>\n",
       "      <td>40.441097</td>\n",
       "      <td>NaN</td>\n",
       "    </tr>\n",
       "    <tr>\n",
       "      <th>2009-01-01</th>\n",
       "      <td>35.143497</td>\n",
       "      <td>NaN</td>\n",
       "    </tr>\n",
       "    <tr>\n",
       "      <th>2010-01-01</th>\n",
       "      <td>30.857267</td>\n",
       "      <td>NaN</td>\n",
       "    </tr>\n",
       "    <tr>\n",
       "      <th>2011-01-01</th>\n",
       "      <td>27.857313</td>\n",
       "      <td>NaN</td>\n",
       "    </tr>\n",
       "    <tr>\n",
       "      <th>2012-01-01</th>\n",
       "      <td>24.562075</td>\n",
       "      <td>NaN</td>\n",
       "    </tr>\n",
       "    <tr>\n",
       "      <th>2013-01-01</th>\n",
       "      <td>22.336021</td>\n",
       "      <td>NaN</td>\n",
       "    </tr>\n",
       "    <tr>\n",
       "      <th>2014-01-01</th>\n",
       "      <td>20.998961</td>\n",
       "      <td>NaN</td>\n",
       "    </tr>\n",
       "    <tr>\n",
       "      <th>2015-01-01</th>\n",
       "      <td>20.252379</td>\n",
       "      <td>NaN</td>\n",
       "    </tr>\n",
       "    <tr>\n",
       "      <th>2016-01-01</th>\n",
       "      <td>18.713954</td>\n",
       "      <td>NaN</td>\n",
       "    </tr>\n",
       "    <tr>\n",
       "      <th>2017-01-01</th>\n",
       "      <td>15.798256</td>\n",
       "      <td>NaN</td>\n",
       "    </tr>\n",
       "    <tr>\n",
       "      <th>2018-01-01</th>\n",
       "      <td>13.238054</td>\n",
       "      <td>NaN</td>\n",
       "    </tr>\n",
       "    <tr>\n",
       "      <th>2019-01-01</th>\n",
       "      <td>11.150014</td>\n",
       "      <td>NaN</td>\n",
       "    </tr>\n",
       "    <tr>\n",
       "      <th>2020-01-01</th>\n",
       "      <td>10.219643</td>\n",
       "      <td>NaN</td>\n",
       "    </tr>\n",
       "    <tr>\n",
       "      <th>2021-01-01</th>\n",
       "      <td>NaN</td>\n",
       "      <td>10.062632</td>\n",
       "    </tr>\n",
       "    <tr>\n",
       "      <th>2022-01-01</th>\n",
       "      <td>NaN</td>\n",
       "      <td>9.440415</td>\n",
       "    </tr>\n",
       "    <tr>\n",
       "      <th>2023-01-01</th>\n",
       "      <td>NaN</td>\n",
       "      <td>8.738980</td>\n",
       "    </tr>\n",
       "    <tr>\n",
       "      <th>2024-01-01</th>\n",
       "      <td>NaN</td>\n",
       "      <td>8.096660</td>\n",
       "    </tr>\n",
       "    <tr>\n",
       "      <th>2025-01-01</th>\n",
       "      <td>NaN</td>\n",
       "      <td>7.521348</td>\n",
       "    </tr>\n",
       "    <tr>\n",
       "      <th>2026-01-01</th>\n",
       "      <td>NaN</td>\n",
       "      <td>7.011061</td>\n",
       "    </tr>\n",
       "    <tr>\n",
       "      <th>2027-01-01</th>\n",
       "      <td>NaN</td>\n",
       "      <td>6.558989</td>\n",
       "    </tr>\n",
       "    <tr>\n",
       "      <th>2028-01-01</th>\n",
       "      <td>NaN</td>\n",
       "      <td>6.158709</td>\n",
       "    </tr>\n",
       "    <tr>\n",
       "      <th>2029-01-01</th>\n",
       "      <td>NaN</td>\n",
       "      <td>5.804312</td>\n",
       "    </tr>\n",
       "    <tr>\n",
       "      <th>2030-01-01</th>\n",
       "      <td>NaN</td>\n",
       "      <td>5.490548</td>\n",
       "    </tr>\n",
       "    <tr>\n",
       "      <th>2031-01-01</th>\n",
       "      <td>NaN</td>\n",
       "      <td>5.212759</td>\n",
       "    </tr>\n",
       "    <tr>\n",
       "      <th>2032-01-01</th>\n",
       "      <td>NaN</td>\n",
       "      <td>4.966821</td>\n",
       "    </tr>\n",
       "    <tr>\n",
       "      <th>2033-01-01</th>\n",
       "      <td>NaN</td>\n",
       "      <td>4.749081</td>\n",
       "    </tr>\n",
       "    <tr>\n",
       "      <th>2034-01-01</th>\n",
       "      <td>NaN</td>\n",
       "      <td>4.556307</td>\n",
       "    </tr>\n",
       "    <tr>\n",
       "      <th>2035-01-01</th>\n",
       "      <td>NaN</td>\n",
       "      <td>4.385637</td>\n",
       "    </tr>\n",
       "    <tr>\n",
       "      <th>2036-01-01</th>\n",
       "      <td>NaN</td>\n",
       "      <td>4.234535</td>\n",
       "    </tr>\n",
       "    <tr>\n",
       "      <th>2037-01-01</th>\n",
       "      <td>NaN</td>\n",
       "      <td>4.100758</td>\n",
       "    </tr>\n",
       "    <tr>\n",
       "      <th>2038-01-01</th>\n",
       "      <td>NaN</td>\n",
       "      <td>3.982320</td>\n",
       "    </tr>\n",
       "    <tr>\n",
       "      <th>2039-01-01</th>\n",
       "      <td>NaN</td>\n",
       "      <td>3.877461</td>\n",
       "    </tr>\n",
       "    <tr>\n",
       "      <th>2040-01-01</th>\n",
       "      <td>NaN</td>\n",
       "      <td>3.784626</td>\n",
       "    </tr>\n",
       "  </tbody>\n",
       "</table>\n",
       "</div>"
      ],
      "text/plain": [
       "                 ratio  predicted_mean\n",
       "2006-01-01  100.561881             NaN\n",
       "2007-01-01   73.586224             NaN\n",
       "2008-01-01   40.441097             NaN\n",
       "2009-01-01   35.143497             NaN\n",
       "2010-01-01   30.857267             NaN\n",
       "2011-01-01   27.857313             NaN\n",
       "2012-01-01   24.562075             NaN\n",
       "2013-01-01   22.336021             NaN\n",
       "2014-01-01   20.998961             NaN\n",
       "2015-01-01   20.252379             NaN\n",
       "2016-01-01   18.713954             NaN\n",
       "2017-01-01   15.798256             NaN\n",
       "2018-01-01   13.238054             NaN\n",
       "2019-01-01   11.150014             NaN\n",
       "2020-01-01   10.219643             NaN\n",
       "2021-01-01         NaN       10.062632\n",
       "2022-01-01         NaN        9.440415\n",
       "2023-01-01         NaN        8.738980\n",
       "2024-01-01         NaN        8.096660\n",
       "2025-01-01         NaN        7.521348\n",
       "2026-01-01         NaN        7.011061\n",
       "2027-01-01         NaN        6.558989\n",
       "2028-01-01         NaN        6.158709\n",
       "2029-01-01         NaN        5.804312\n",
       "2030-01-01         NaN        5.490548\n",
       "2031-01-01         NaN        5.212759\n",
       "2032-01-01         NaN        4.966821\n",
       "2033-01-01         NaN        4.749081\n",
       "2034-01-01         NaN        4.556307\n",
       "2035-01-01         NaN        4.385637\n",
       "2036-01-01         NaN        4.234535\n",
       "2037-01-01         NaN        4.100758\n",
       "2038-01-01         NaN        3.982320\n",
       "2039-01-01         NaN        3.877461\n",
       "2040-01-01         NaN        3.784626"
      ]
     },
     "execution_count": 24,
     "metadata": {},
     "output_type": "execute_result"
    }
   ],
   "source": [
    "final"
   ]
  },
  {
   "cell_type": "code",
   "execution_count": 25,
   "id": "f1693497",
   "metadata": {
    "ExecuteTime": {
     "end_time": "2021-11-21T10:17:35.024655Z",
     "start_time": "2021-11-21T10:17:34.963441Z"
    }
   },
   "outputs": [],
   "source": [
    "final.to_csv(\"ratio_renew_nonrenew_forcast.csv\")\n"
   ]
  },
  {
   "cell_type": "code",
   "execution_count": null,
   "id": "334b5c13",
   "metadata": {},
   "outputs": [],
   "source": []
  }
 ],
 "metadata": {
  "kernelspec": {
   "display_name": "Python 3",
   "language": "python",
   "name": "python3"
  },
  "language_info": {
   "codemirror_mode": {
    "name": "ipython",
    "version": 3
   },
   "file_extension": ".py",
   "mimetype": "text/x-python",
   "name": "python",
   "nbconvert_exporter": "python",
   "pygments_lexer": "ipython3",
   "version": "3.8.10"
  },
  "varInspector": {
   "cols": {
    "lenName": 16,
    "lenType": 16,
    "lenVar": 40
   },
   "kernels_config": {
    "python": {
     "delete_cmd_postfix": "",
     "delete_cmd_prefix": "del ",
     "library": "var_list.py",
     "varRefreshCmd": "print(var_dic_list())"
    },
    "r": {
     "delete_cmd_postfix": ") ",
     "delete_cmd_prefix": "rm(",
     "library": "var_list.r",
     "varRefreshCmd": "cat(var_dic_list()) "
    }
   },
   "types_to_exclude": [
    "module",
    "function",
    "builtin_function_or_method",
    "instance",
    "_Feature"
   ],
   "window_display": false
  }
 },
 "nbformat": 4,
 "nbformat_minor": 5
}
